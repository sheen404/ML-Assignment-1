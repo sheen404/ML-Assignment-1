{
 "cells": [
  {
   "cell_type": "code",
   "execution_count": 5,
   "metadata": {},
   "outputs": [
    {
     "name": "stdout",
     "output_type": "stream",
     "text": [
      "Enter your name: Harsheen\n",
      "Enter your age: 22\n",
      "You'll hit a century in the year 2099\n",
      "Enter the number of times you want the message to be displayed: \n",
      "5\n",
      "You'll hit a century in the year 2099\n",
      "\n",
      "You'll hit a century in the year 2099\n",
      "\n",
      "You'll hit a century in the year 2099\n",
      "\n",
      "You'll hit a century in the year 2099\n",
      "\n",
      "You'll hit a century in the year 2099\n",
      "\n"
     ]
    }
   ],
   "source": [
    "#Question 1\n",
    "from datetime import datetime\n",
    "\n",
    "name = input(\"Enter your name: \")\n",
    "age = int(input(\"Enter your age: \"))\n",
    "final_year = (datetime.now().year - age) + 100\n",
    "print(f\"You'll hit a century in the year {final_year}\")\n",
    "\n",
    "#Extra\n",
    "number = int(input(\"Enter the number of times you want the message to be displayed: \\n\"))\n",
    "for _ in range(number):\n",
    "    print(f\"You'll hit a century in the year {final_year}\\n\")"
   ]
  },
  {
   "cell_type": "code",
   "execution_count": 12,
   "metadata": {},
   "outputs": [
    {
     "name": "stdout",
     "output_type": "stream",
     "text": [
      "1\n",
      "1\n",
      "2\n",
      "3\n",
      "[1, 1, 2, 3]\n",
      "[1, 1, 2, 3]\n",
      "Enter a number to find elements smaller than it: 14\n",
      "[1, 1, 2, 3, 5, 8, 13]\n"
     ]
    }
   ],
   "source": [
    "#Question 2\n",
    "a = [1, 1, 2, 3, 5, 8, 13, 21, 34, 55, 89]\n",
    "\n",
    "for number in a:\n",
    "    if(number<5):\n",
    "        print(number)\n",
    "\n",
    "#Extra\n",
    "#1\n",
    "new_list = []\n",
    "for number in a:\n",
    "    if(number<5):\n",
    "        new_list.append(number)\n",
    "print(new_list)\n",
    "\n",
    "#2\n",
    "second_list = [number for number in a if number<5]\n",
    "print(second_list)\n",
    "\n",
    "#3\n",
    "new_number = int(input(\"Enter a number to find elements smaller than it: \"))\n",
    "third_list = [number for number in a if number<new_number]\n",
    "print(third_list)"
   ]
  },
  {
   "cell_type": "code",
   "execution_count": 2,
   "metadata": {},
   "outputs": [
    {
     "name": "stdout",
     "output_type": "stream",
     "text": [
      "Enter the terms? 18\n",
      "Fibonacci sequence:\n",
      "0\n",
      "1\n",
      "1\n",
      "2\n",
      "3\n",
      "5\n",
      "8\n",
      "13\n",
      "21\n",
      "34\n",
      "55\n",
      "89\n",
      "144\n",
      "233\n",
      "377\n",
      "610\n",
      "987\n",
      "1597\n"
     ]
    }
   ],
   "source": [
    "#Question 3\n",
    "def Fibonacci(n):  \n",
    "   if n <= 1:  \n",
    "       return n  \n",
    "   else:  \n",
    "       return(Fibonacci(n-1) + Fibonacci(n-2))  \n",
    " \n",
    "nterms = int(input(\"Enter the terms? \"))  \n",
    "  \n",
    "if nterms <= 0:  \n",
    "   print(\"Please enter a positive integer\")  \n",
    "else:  \n",
    "   print(\"Fibonacci sequence:\")  \n",
    "   for i in range(nterms):  \n",
    "       print(Fibonacci(i))\n"
   ]
  },
  {
   "cell_type": "code",
   "execution_count": 2,
   "metadata": {},
   "outputs": [
    {
     "name": "stdout",
     "output_type": "stream",
     "text": [
      "[1, 2, 3, 4, 3, 2, 1]\n",
      "[1, 2, 3, 4]\n",
      "[1, 2, 3, 4]\n"
     ]
    }
   ],
   "source": [
    "#Question 4\n",
    "#Using list\n",
    "def delete_duplicate(x):\n",
    "  y = []\n",
    "  for i in x:\n",
    "    if i not in y:\n",
    "      y.append(i)\n",
    "  return y\n",
    "\n",
    "#Using sets\n",
    "def delete_duplicate_set(x):\n",
    "    return list(set(x))\n",
    "\n",
    "a = [1,2,3,4,3,2,1]\n",
    "print(a)\n",
    "print(delete_duplicate(a))\n",
    "print(delete_duplicate_set(a))"
   ]
  },
  {
   "cell_type": "code",
   "execution_count": 10,
   "metadata": {},
   "outputs": [
    {
     "name": "stdout",
     "output_type": "stream",
     "text": [
      "Enter a number to check if it's prime or not: 89\n",
      "Prime Number!\n"
     ]
    }
   ],
   "source": [
    "#Question 5\n",
    "def check_prime(n):\n",
    "    prime = False\n",
    "    if n == 0 or n==1:\n",
    "        print(\"Smallest prime number is 2\")\n",
    "    else:\n",
    "        for number in range(2,n):\n",
    "            if n%number == 0:\n",
    "                prime = True\n",
    "    if prime == True:\n",
    "        print(\"Not a prime number!\")\n",
    "    else:\n",
    "        print(\"Prime Number!\")\n",
    "        \n",
    "number = int(input(\"Enter a number to check if it's prime or not: \"))\n",
    "check_prime(number)"
   ]
  },
  {
   "cell_type": "code",
   "execution_count": null,
   "metadata": {},
   "outputs": [],
   "source": []
  },
  {
   "cell_type": "code",
   "execution_count": null,
   "metadata": {},
   "outputs": [],
   "source": []
  }
 ],
 "metadata": {
  "kernelspec": {
   "display_name": "Python 3",
   "language": "python",
   "name": "python3"
  },
  "language_info": {
   "codemirror_mode": {
    "name": "ipython",
    "version": 3
   },
   "file_extension": ".py",
   "mimetype": "text/x-python",
   "name": "python",
   "nbconvert_exporter": "python",
   "pygments_lexer": "ipython3",
   "version": "3.8.5"
  }
 },
 "nbformat": 4,
 "nbformat_minor": 4
}
